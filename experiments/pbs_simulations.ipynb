{
 "cells": [
  {
   "cell_type": "markdown",
   "source": [
    "# Introduction\n",
    "In this notebook, we model how value flows through various actors in the Ethereum system, paying particular attention to the introduction of PBS. Does PBS alleviate centralising effects of MEV, as was claimed prior to its introduction?\n",
    "\n",
    "# Basic Setup\n",
    "In order to establish a baseline, we first examine the scenario where Proof of Stake ethereum exists without mev-boost. All proposers build local blocks, and one is randomly chosen each slot according to the rules of Ethereum PoS. First, we define a simple `Validator` class. Validators have some notion of internal profit i.e. the value that has accrued to them over time.\n"
   ],
   "metadata": {
    "collapsed": false
   }
  },
  {
   "cell_type": "code",
   "execution_count": 1,
   "outputs": [],
   "source": [
    "class Validator:\n",
    "    def __init__(self):\n",
    "        self.value = 32"
   ],
   "metadata": {
    "collapsed": false
   }
  },
  {
   "cell_type": "code",
   "execution_count": 2,
   "outputs": [],
   "source": [
    "constants = {\n",
    "    \"NUMBER_OF_VALIDATORS\": 500,\n",
    "    \"AVG_BLOCK_REWARD\": 0.025\n",
    "}"
   ],
   "metadata": {
    "collapsed": false
   }
  },
  {
   "cell_type": "markdown",
   "source": [
    "cadCAD simulations are set up as a repeating pattern of state updates and policies. For this basic initial simulation, we will first update the state of the world by initialising a validator set. <say more stuff about how the sim actually works>. Each round, a validator is chosen at random from the set of all validators to propose the next block and receive the reward. Assume there is no MEV in this world, and that block rewards are fixed."
   ],
   "metadata": {
    "collapsed": false
   }
  },
  {
   "cell_type": "code",
   "execution_count": 3,
   "outputs": [],
   "source": [
    "import pandas as pd\n",
    "import cadCAD\n",
    "import random\n",
    "\n",
    "initial_state = {\n",
    "    \"validator_set\": [Validator()] * constants[\"NUMBER_OF_VALIDATORS\"]\n",
    "}\n",
    "\n",
    "def choose_next_block_proposer(params, substep, state_history, previous_state, policy_input):\n",
    "    if not previous_state:\n",
    "        previous_state = initial_state\n",
    "\n",
    "    return \"block_proposer\", random.choice(previous_state[\"validator_set\"]).index()\n",
    "\n",
    "def update_internal_value(params, substep, state_history, previous_state, policy_input):\n",
    "    block_proposer = policy_input[\"block_proposer\"]\n",
    "    previous_state[\"validator_set\"][block_proposer].value += constants.AVG_BLOCK_REWARD\n",
    "\n",
    "    return \"rewards\", previous_state[\"validator_set\"][block_proposer]\n",
    "\n",
    "psub = [{\n",
    "    \"policies\": {\n",
    "        \"gas_used\": choose_next_block_proposer # step 1\n",
    "    },\n",
    "    \"variables\": {\n",
    "        \"rewards\": update_internal_value # step 2\n",
    "    }\n",
    "}]"
   ],
   "metadata": {
    "collapsed": false
   }
  },
  {
   "cell_type": "markdown",
   "source": [
    "Now we set up the parameters of the simulation. Let's run it for 500 blocks."
   ],
   "metadata": {
    "collapsed": false
   }
  },
  {
   "cell_type": "code",
   "execution_count": 4,
   "outputs": [],
   "source": [
    "from cadCAD.configuration.utils import config_sim\n",
    "from cadCAD.configuration import Experiment\n",
    "\n",
    "sim_config_dict = {\n",
    "    \"N\": 1,\n",
    "    \"T\": range(500),\n",
    "}\n",
    "\n",
    "c = config_sim(sim_config_dict)\n",
    "exp = Experiment()\n",
    "\n",
    "exp.append_model(\n",
    "    initial_state = initial_state,\n",
    "    state_update_blocks = psub,\n",
    "    sim_configs = c\n",
    ")\n"
   ],
   "metadata": {
    "collapsed": false
   }
  },
  {
   "cell_type": "markdown",
   "source": [
    "Executing the simulation..."
   ],
   "metadata": {
    "collapsed": false
   }
  },
  {
   "cell_type": "code",
   "execution_count": 6,
   "outputs": [
    {
     "name": "stdout",
     "output_type": "stream",
     "text": [
      "\n",
      "                  ___________    ____\n",
      "  ________ __ ___/ / ____/   |  / __ \\\n",
      " / ___/ __` / __  / /   / /| | / / / /\n",
      "/ /__/ /_/ / /_/ / /___/ ___ |/ /_/ /\n",
      "\\___/\\__,_/\\__,_/\\____/_/  |_/_____/\n",
      "by cadCAD\n",
      "\n",
      "cadCAD Version: 0.4.28\n",
      "Execution Mode: local_proc\n",
      "Simulation Dimensions:\n",
      "Entire Simulation: (Models, Unique Timesteps, Params, Total Runs, Sub-States) = (1, 500, 0, 1, 1)\n",
      "     Simulation 0: (Timesteps, Params, Runs, Sub-States) = (500, 0, 1, 1)\n",
      "Execution Method: local_simulations\n",
      "Execution Mode: single_threaded\n",
      "Total execution time: 0.27s\n"
     ]
    },
    {
     "name": "stderr",
     "output_type": "stream",
     "text": [
      "/Users/jolenedunne/PycharmProjects/pbs-sims/venv/lib/python3.9/site-packages/cadCAD/utils/__init__.py:124: FutureWarning: The use of a dictionary to describe Partial State Update Blocks will be deprecated. Use a list instead.\n",
      "  warnings.warn(\n",
      "/Users/jolenedunne/PycharmProjects/pbs-sims/venv/lib/python3.9/site-packages/cadCAD/utils/__init__.py:124: FutureWarning: The use of a dictionary to describe Partial State Update Blocks will be deprecated. Use a list instead.\n",
      "  warnings.warn(\n"
     ]
    }
   ],
   "source": [
    "from cadCAD.engine import ExecutionMode, ExecutionContext\n",
    "from cadCAD.engine import Executor\n",
    "import pandas as pd\n",
    "\n",
    "exec_mode = ExecutionMode()\n",
    "local_mode_ctx = ExecutionContext(context=exec_mode.local_mode)\n",
    "\n",
    "simulation = Executor(exec_context=local_mode_ctx, configs=exp.configs)\n",
    "raw_system_events, tensor_field, sessions = simulation.execute()\n",
    "\n",
    "simulation_result = pd.DataFrame(raw_system_events)"
   ],
   "metadata": {
    "collapsed": false
   }
  }
 ],
 "metadata": {
  "kernelspec": {
   "display_name": "Python 3",
   "language": "python",
   "name": "python3"
  },
  "language_info": {
   "codemirror_mode": {
    "name": "ipython",
    "version": 2
   },
   "file_extension": ".py",
   "mimetype": "text/x-python",
   "name": "python",
   "nbconvert_exporter": "python",
   "pygments_lexer": "ipython2",
   "version": "2.7.6"
  }
 },
 "nbformat": 4,
 "nbformat_minor": 0
}
