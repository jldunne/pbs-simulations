{
 "cells": [
  {
   "cell_type": "code",
   "execution_count": 88,
   "metadata": {
    "collapsed": true
   },
   "outputs": [],
   "source": [
    "import numpy as np\n",
    "import pandas as pd\n",
    "from radcad import Model, Simulation, Experiment\n",
    "from radcad.engine import Engine, Backend\n",
    "\n",
    "initial_validator_stakes = [32, 32, 32, 32, 32]\n",
    "initial_state = {\n",
    "    'validators_stake': initial_validator_stakes\n",
    "}"
   ]
  },
  {
   "cell_type": "code",
   "execution_count": 89,
   "outputs": [],
   "source": [
    "fixed_reward = 5\n",
    "params = {\n",
    "    \"reward\": [fixed_reward]\n",
    "}"
   ],
   "metadata": {
    "collapsed": false
   }
  },
  {
   "cell_type": "code",
   "execution_count": 90,
   "outputs": [],
   "source": [
    "def update_validator_stake(params, substep, state_history, previous_state, policy_input):\n",
    "    reward = params['reward']\n",
    "    validators_stake = previous_state['validators_stake']\n",
    "\n",
    "    random_validator_idx = np.random.choice(len(validators_stake))\n",
    "    new_stake = validators_stake.copy()\n",
    "    new_stake[random_validator_idx] += reward\n",
    "\n",
    "    return {'validators_stake': new_stake}\n"
   ],
   "metadata": {
    "collapsed": false
   }
  },
  {
   "cell_type": "code",
   "execution_count": 93,
   "outputs": [],
   "source": [
    "model = Model(\n",
    "    initial_state=initial_state,\n",
    "    state_update_blocks=[\n",
    "        {\n",
    "            'policies': {},\n",
    "            'variables': {\n",
    "                'validators_stake': update_validator_stake\n",
    "            }\n",
    "        }\n",
    "    ],\n",
    "    params=params\n",
    ")\n"
   ],
   "metadata": {
    "collapsed": false
   }
  },
  {
   "cell_type": "code",
   "execution_count": 95,
   "outputs": [
    {
     "ename": "ValueError",
     "evalue": "not enough values to unpack (expected 2, got 1)",
     "output_type": "error",
     "traceback": [
      "\u001B[0;31m---------------------------------------------------------------------------\u001B[0m",
      "\u001B[0;31mRemoteTraceback\u001B[0m                           Traceback (most recent call last)",
      "\u001B[0;31mRemoteTraceback\u001B[0m: \n\"\"\"\nTraceback (most recent call last):\n  File \"/Users/jolenedunne/PycharmProjects/pbs-sims/venv/lib/python3.9/site-packages/multiprocess/pool.py\", line 125, in worker\n    result = (True, func(*args, **kwds))\n  File \"/Users/jolenedunne/PycharmProjects/pbs-sims/venv/lib/python3.9/site-packages/multiprocess/pool.py\", line 48, in mapstar\n    return list(map(*args))\n  File \"/Users/jolenedunne/PycharmProjects/pbs-sims/venv/lib/python3.9/site-packages/pathos/helpers/mp_helper.py\", line 15, in <lambda>\n    func = lambda args: f(*args)\n  File \"/Users/jolenedunne/PycharmProjects/pbs-sims/venv/lib/python3.9/site-packages/radcad/core.py\", line 179, in _single_run_wrapper\n    raise e\n  File \"/Users/jolenedunne/PycharmProjects/pbs-sims/venv/lib/python3.9/site-packages/radcad/core.py\", line 165, in _single_run_wrapper\n    raise exception\n  File \"/Users/jolenedunne/PycharmProjects/pbs-sims/venv/lib/python3.9/site-packages/radcad/core.py\", line 135, in single_run\n    _single_run(\n  File \"/Users/jolenedunne/PycharmProjects/pbs-sims/venv/lib/python3.9/site-packages/radcad/core.py\", line 109, in _single_run\n    substate.update(updated_state)\n  File \"/Users/jolenedunne/PycharmProjects/pbs-sims/venv/lib/python3.9/site-packages/radcad/core.py\", line 36, in _update_state\n    state_key, state_value = function(\nValueError: not enough values to unpack (expected 2, got 1)\n\"\"\"",
      "\nThe above exception was the direct cause of the following exception:\n",
      "\u001B[0;31mValueError\u001B[0m                                Traceback (most recent call last)",
      "Cell \u001B[0;32mIn[95], line 4\u001B[0m\n\u001B[1;32m      1\u001B[0m simulation \u001B[38;5;241m=\u001B[39m Simulation(model\u001B[38;5;241m=\u001B[39mmodel, timesteps\u001B[38;5;241m=\u001B[39m\u001B[38;5;241m10\u001B[39m, runs\u001B[38;5;241m=\u001B[39m\u001B[38;5;241m1\u001B[39m)\n\u001B[1;32m      2\u001B[0m experiment \u001B[38;5;241m=\u001B[39m Experiment([simulation])\n\u001B[0;32m----> 4\u001B[0m results \u001B[38;5;241m=\u001B[39m \u001B[43mexperiment\u001B[49m\u001B[38;5;241;43m.\u001B[39;49m\u001B[43mrun\u001B[49m\u001B[43m(\u001B[49m\u001B[43m)\u001B[49m\n\u001B[1;32m      6\u001B[0m df \u001B[38;5;241m=\u001B[39m pd\u001B[38;5;241m.\u001B[39mDataFrame(results)\n",
      "File \u001B[0;32m~/PycharmProjects/pbs-sims/venv/lib/python3.9/site-packages/radcad/wrappers.py:187\u001B[0m, in \u001B[0;36mExperiment.run\u001B[0;34m(self)\u001B[0m\n\u001B[1;32m    186\u001B[0m \u001B[38;5;28;01mdef\u001B[39;00m \u001B[38;5;21mrun\u001B[39m(\u001B[38;5;28mself\u001B[39m):\n\u001B[0;32m--> 187\u001B[0m     \u001B[38;5;28;01mreturn\u001B[39;00m \u001B[38;5;28;43mself\u001B[39;49m\u001B[38;5;241;43m.\u001B[39;49m\u001B[43mengine\u001B[49m\u001B[38;5;241;43m.\u001B[39;49m\u001B[43m_run\u001B[49m\u001B[43m(\u001B[49m\u001B[43mexecutable\u001B[49m\u001B[38;5;241;43m=\u001B[39;49m\u001B[38;5;28;43mself\u001B[39;49m\u001B[43m)\u001B[49m\n",
      "File \u001B[0;32m~/PycharmProjects/pbs-sims/venv/lib/python3.9/site-packages/radcad/engine.py:82\u001B[0m, in \u001B[0;36mEngine._run\u001B[0;34m(self, executable, **kwargs)\u001B[0m\n\u001B[1;32m     79\u001B[0m \u001B[38;5;28;01melse\u001B[39;00m:\n\u001B[1;32m     80\u001B[0m     \u001B[38;5;28;01mraise\u001B[39;00m \u001B[38;5;167;01mException\u001B[39;00m(\u001B[38;5;124mf\u001B[39m\u001B[38;5;124m\"\u001B[39m\u001B[38;5;124mExecution backend must be one of \u001B[39m\u001B[38;5;132;01m{\u001B[39;00mBackend\u001B[38;5;241m.\u001B[39m_member_names_\u001B[38;5;132;01m}\u001B[39;00m\u001B[38;5;124m, not \u001B[39m\u001B[38;5;132;01m{\u001B[39;00m\u001B[38;5;28mself\u001B[39m\u001B[38;5;241m.\u001B[39mbackend\u001B[38;5;132;01m}\u001B[39;00m\u001B[38;5;124m\"\u001B[39m)\n\u001B[0;32m---> 82\u001B[0m result \u001B[38;5;241m=\u001B[39m \u001B[43mExecutor\u001B[49m\u001B[43m(\u001B[49m\u001B[38;5;28;43mself\u001B[39;49m\u001B[43m)\u001B[49m\u001B[38;5;241;43m.\u001B[39;49m\u001B[43mexecute_runs\u001B[49m\u001B[43m(\u001B[49m\u001B[43m)\u001B[49m\n\u001B[1;32m     84\u001B[0m \u001B[38;5;28mself\u001B[39m\u001B[38;5;241m.\u001B[39mexecutable\u001B[38;5;241m.\u001B[39mresults, \u001B[38;5;28mself\u001B[39m\u001B[38;5;241m.\u001B[39mexecutable\u001B[38;5;241m.\u001B[39mexceptions \u001B[38;5;241m=\u001B[39m extract_exceptions(result)\n\u001B[1;32m     85\u001B[0m \u001B[38;5;28mself\u001B[39m\u001B[38;5;241m.\u001B[39mexecutable\u001B[38;5;241m.\u001B[39m_after_experiment(experiment\u001B[38;5;241m=\u001B[39m(executable \u001B[38;5;28;01mif\u001B[39;00m \u001B[38;5;28misinstance\u001B[39m(executable, wrappers\u001B[38;5;241m.\u001B[39mExperiment) \u001B[38;5;28;01melse\u001B[39;00m \u001B[38;5;28;01mNone\u001B[39;00m))\n",
      "File \u001B[0;32m~/PycharmProjects/pbs-sims/venv/lib/python3.9/site-packages/radcad/backends/pathos.py:21\u001B[0m, in \u001B[0;36mExecutorPathos.execute_runs\u001B[0;34m(self)\u001B[0m\n\u001B[1;32m     19\u001B[0m \u001B[38;5;28;01mdef\u001B[39;00m \u001B[38;5;21mexecute_runs\u001B[39m(\u001B[38;5;28mself\u001B[39m):\n\u001B[1;32m     20\u001B[0m     \u001B[38;5;28;01mwith\u001B[39;00m ProcessPool(\u001B[38;5;28mself\u001B[39m\u001B[38;5;241m.\u001B[39mengine\u001B[38;5;241m.\u001B[39mprocesses) \u001B[38;5;28;01mas\u001B[39;00m pool:\n\u001B[0;32m---> 21\u001B[0m         result \u001B[38;5;241m=\u001B[39m \u001B[43mpool\u001B[49m\u001B[38;5;241;43m.\u001B[39;49m\u001B[43mmap\u001B[49m\u001B[43m(\u001B[49m\n\u001B[1;32m     22\u001B[0m \u001B[43m            \u001B[49m\u001B[43mcore\u001B[49m\u001B[38;5;241;43m.\u001B[39;49m\u001B[43m_single_run_wrapper\u001B[49m\u001B[43m,\u001B[49m\n\u001B[1;32m     23\u001B[0m \u001B[43m            \u001B[49m\u001B[43m[\u001B[49m\n\u001B[1;32m     24\u001B[0m \u001B[43m                \u001B[49m\u001B[43m(\u001B[49m\u001B[43mconfig\u001B[49m\u001B[43m,\u001B[49m\u001B[43m \u001B[49m\u001B[38;5;28;43mself\u001B[39;49m\u001B[38;5;241;43m.\u001B[39;49m\u001B[43mengine\u001B[49m\u001B[38;5;241;43m.\u001B[39;49m\u001B[43mraise_exceptions\u001B[49m\u001B[43m)\u001B[49m\n\u001B[1;32m     25\u001B[0m \u001B[43m                \u001B[49m\u001B[38;5;28;43;01mfor\u001B[39;49;00m\u001B[43m \u001B[49m\u001B[43mconfig\u001B[49m\u001B[43m \u001B[49m\u001B[38;5;129;43;01min\u001B[39;49;00m\u001B[43m \u001B[49m\u001B[38;5;28;43mself\u001B[39;49m\u001B[38;5;241;43m.\u001B[39;49m\u001B[43mengine\u001B[49m\u001B[38;5;241;43m.\u001B[39;49m\u001B[43m_run_generator\u001B[49m\n\u001B[1;32m     26\u001B[0m \u001B[43m            \u001B[49m\u001B[43m]\u001B[49m\u001B[43m,\u001B[49m\n\u001B[1;32m     27\u001B[0m \u001B[43m        \u001B[49m\u001B[43m)\u001B[49m\n\u001B[1;32m     28\u001B[0m         pool\u001B[38;5;241m.\u001B[39mclose()\n\u001B[1;32m     29\u001B[0m         pool\u001B[38;5;241m.\u001B[39mjoin()\n",
      "File \u001B[0;32m~/PycharmProjects/pbs-sims/venv/lib/python3.9/site-packages/pathos/multiprocessing.py:139\u001B[0m, in \u001B[0;36mProcessPool.map\u001B[0;34m(self, f, *args, **kwds)\u001B[0m\n\u001B[1;32m    137\u001B[0m AbstractWorkerPool\u001B[38;5;241m.\u001B[39m_AbstractWorkerPool__map(\u001B[38;5;28mself\u001B[39m, f, \u001B[38;5;241m*\u001B[39margs, \u001B[38;5;241m*\u001B[39m\u001B[38;5;241m*\u001B[39mkwds)\n\u001B[1;32m    138\u001B[0m _pool \u001B[38;5;241m=\u001B[39m \u001B[38;5;28mself\u001B[39m\u001B[38;5;241m.\u001B[39m_serve()\n\u001B[0;32m--> 139\u001B[0m \u001B[38;5;28;01mreturn\u001B[39;00m \u001B[43m_pool\u001B[49m\u001B[38;5;241;43m.\u001B[39;49m\u001B[43mmap\u001B[49m\u001B[43m(\u001B[49m\u001B[43mstar\u001B[49m\u001B[43m(\u001B[49m\u001B[43mf\u001B[49m\u001B[43m)\u001B[49m\u001B[43m,\u001B[49m\u001B[43m \u001B[49m\u001B[38;5;28;43mzip\u001B[39;49m\u001B[43m(\u001B[49m\u001B[38;5;241;43m*\u001B[39;49m\u001B[43margs\u001B[49m\u001B[43m)\u001B[49m\u001B[43m)\u001B[49m\n",
      "File \u001B[0;32m~/PycharmProjects/pbs-sims/venv/lib/python3.9/site-packages/multiprocess/pool.py:364\u001B[0m, in \u001B[0;36mPool.map\u001B[0;34m(self, func, iterable, chunksize)\u001B[0m\n\u001B[1;32m    359\u001B[0m \u001B[38;5;28;01mdef\u001B[39;00m \u001B[38;5;21mmap\u001B[39m(\u001B[38;5;28mself\u001B[39m, func, iterable, chunksize\u001B[38;5;241m=\u001B[39m\u001B[38;5;28;01mNone\u001B[39;00m):\n\u001B[1;32m    360\u001B[0m \u001B[38;5;250m    \u001B[39m\u001B[38;5;124;03m'''\u001B[39;00m\n\u001B[1;32m    361\u001B[0m \u001B[38;5;124;03m    Apply `func` to each element in `iterable`, collecting the results\u001B[39;00m\n\u001B[1;32m    362\u001B[0m \u001B[38;5;124;03m    in a list that is returned.\u001B[39;00m\n\u001B[1;32m    363\u001B[0m \u001B[38;5;124;03m    '''\u001B[39;00m\n\u001B[0;32m--> 364\u001B[0m     \u001B[38;5;28;01mreturn\u001B[39;00m \u001B[38;5;28;43mself\u001B[39;49m\u001B[38;5;241;43m.\u001B[39;49m\u001B[43m_map_async\u001B[49m\u001B[43m(\u001B[49m\u001B[43mfunc\u001B[49m\u001B[43m,\u001B[49m\u001B[43m \u001B[49m\u001B[43miterable\u001B[49m\u001B[43m,\u001B[49m\u001B[43m \u001B[49m\u001B[43mmapstar\u001B[49m\u001B[43m,\u001B[49m\u001B[43m \u001B[49m\u001B[43mchunksize\u001B[49m\u001B[43m)\u001B[49m\u001B[38;5;241;43m.\u001B[39;49m\u001B[43mget\u001B[49m\u001B[43m(\u001B[49m\u001B[43m)\u001B[49m\n",
      "File \u001B[0;32m~/PycharmProjects/pbs-sims/venv/lib/python3.9/site-packages/multiprocess/pool.py:771\u001B[0m, in \u001B[0;36mApplyResult.get\u001B[0;34m(self, timeout)\u001B[0m\n\u001B[1;32m    769\u001B[0m     \u001B[38;5;28;01mreturn\u001B[39;00m \u001B[38;5;28mself\u001B[39m\u001B[38;5;241m.\u001B[39m_value\n\u001B[1;32m    770\u001B[0m \u001B[38;5;28;01melse\u001B[39;00m:\n\u001B[0;32m--> 771\u001B[0m     \u001B[38;5;28;01mraise\u001B[39;00m \u001B[38;5;28mself\u001B[39m\u001B[38;5;241m.\u001B[39m_value\n",
      "\u001B[0;31mValueError\u001B[0m: not enough values to unpack (expected 2, got 1)"
     ]
    }
   ],
   "source": [
    "simulation = Simulation(model=model, timesteps=10, runs=1)\n",
    "experiment = Experiment([simulation])\n",
    "\n",
    "results = experiment.run()\n",
    "\n",
    "df = pd.DataFrame(results)"
   ],
   "metadata": {
    "collapsed": false
   }
  },
  {
   "cell_type": "code",
   "execution_count": null,
   "outputs": [],
   "source": [],
   "metadata": {
    "collapsed": false
   }
  }
 ],
 "metadata": {
  "kernelspec": {
   "display_name": "Python 3",
   "language": "python",
   "name": "python3"
  },
  "language_info": {
   "codemirror_mode": {
    "name": "ipython",
    "version": 2
   },
   "file_extension": ".py",
   "mimetype": "text/x-python",
   "name": "python",
   "nbconvert_exporter": "python",
   "pygments_lexer": "ipython2",
   "version": "2.7.6"
  }
 },
 "nbformat": 4,
 "nbformat_minor": 0
}
