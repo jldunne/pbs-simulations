{
 "cells": [
  {
   "cell_type": "code",
   "execution_count": 2,
   "outputs": [],
   "source": [
    "constants = {\n",
    "    \"NUMBER_OF_VALIDATORS\": 500000,\n",
    "    \"AVG_BLOCK_REWARD\": 0.025\n",
    "    \"NUM_BUILDERS\": 30\n",
    "}"
   ],
   "metadata": {
    "collapsed": false
   }
  },
  {
   "cell_type": "code",
   "execution_count": 3,
   "outputs": [],
   "source": [
    "initial_stakes = [32]*constants[\"NUMBER_OF_VALIDATORS\"]\n",
    "reward = 0.025\n",
    "num_rounds = 300000"
   ],
   "metadata": {
    "collapsed": false
   }
  },
  {
   "cell_type": "code",
   "execution_count": 4,
   "metadata": {
    "collapsed": true
   },
   "outputs": [],
   "source": [
    "import numpy as np\n",
    "\n",
    "def simulate_validator_rewards(initial_stakes, reward, num_rounds):\n",
    "    stakes = initial_stakes.copy()\n",
    "\n",
    "    for _ in range(num_rounds):\n",
    "        random_validator_idx = np.random.choice(len(stakes))\n",
    "        stakes[random_validator_idx] += reward\n",
    "\n",
    "    return stakes\n",
    "\n",
    "final_stakes = simulate_validator_rewards(initial_stakes, reward, num_rounds)\n",
    "#print(final_stakes)"
   ]
  },
  {
   "cell_type": "code",
   "execution_count": 5,
   "outputs": [
    {
     "name": "stdout",
     "output_type": "stream",
     "text": [
      "Lowest 20 values:\n",
      "[32. 32. 32. 32. 32. 32. 32. 32. 32. 32. 32. 32. 32. 32. 32. 32. 32. 32.\n",
      " 32. 32.]\n",
      "Highest 20 values:\n",
      "[32.15  32.15  32.15  32.15  32.15  32.15  32.15  32.15  32.15  32.15\n",
      " 32.15  32.15  32.15  32.15  32.15  32.15  32.175 32.175 32.175 32.175]\n"
     ]
    }
   ],
   "source": [
    "# Convert the list to a NumPy array\n",
    "final_stakes_array = np.array(final_stakes)\n",
    "\n",
    "# Sort the array in ascending order\n",
    "sorted_stakes = np.sort(final_stakes_array)\n",
    "\n",
    "# Get the lowest 20 values\n",
    "lowest_20 = sorted_stakes[:20]\n",
    "\n",
    "# Get the highest 20 values\n",
    "highest_20 = sorted_stakes[-20:]\n",
    "\n",
    "print(\"Lowest 20 values:\")\n",
    "print(lowest_20)\n",
    "\n",
    "print(\"Highest 20 values:\")\n",
    "print(highest_20)"
   ],
   "metadata": {
    "collapsed": false
   }
  },
  {
   "cell_type": "markdown",
   "source": [
    "Modifying to include variable block rewards too - MEV is represented as a random value chosen from a lognormal distribution with mean 0.1. 0.1ETH in MEV is currently the average payment per slot a validator can expect from using MEV-boost."
   ],
   "metadata": {
    "collapsed": false
   }
  },
  {
   "cell_type": "code",
   "execution_count": 6,
   "outputs": [],
   "source": [
    "def simulate_validator_rewards(initial_stakes, fixed_reward, num_rounds, mean, sigma):\n",
    "    stakes = initial_stakes.copy()\n",
    "\n",
    "    for _ in range(num_rounds):\n",
    "        random_validator_idx = np.random.choice(len(stakes))\n",
    "        variable_reward = np.random.lognormal(mean, sigma)\n",
    "        total_reward = fixed_reward + variable_reward\n",
    "        stakes[random_validator_idx] += total_reward\n",
    "\n",
    "    return stakes"
   ],
   "metadata": {
    "collapsed": false
   }
  },
  {
   "cell_type": "code",
   "execution_count": 7,
   "outputs": [],
   "source": [
    "fixed_reward = 0.025\n",
    "mean = 0.1\n",
    "sigma = 1\n",
    "\n",
    "final_stakes = simulate_validator_rewards(initial_stakes, fixed_reward, num_rounds, mean, sigma)\n",
    "#print(final_stakes)"
   ],
   "metadata": {
    "collapsed": false
   }
  },
  {
   "cell_type": "code",
   "execution_count": 8,
   "outputs": [
    {
     "name": "stdout",
     "output_type": "stream",
     "text": [
      "Lowest 20 values:\n",
      "[32. 32. 32. 32. 32. 32. 32. 32. 32. 32. 32. 32. 32. 32. 32. 32. 32. 32.\n",
      " 32. 32.]\n",
      "Highest 20 values:\n",
      "[ 82.69074702  82.82225379  83.36923455  84.0998825   85.28033773\n",
      "  90.51268755  91.27569026  91.67399604  92.12349516  92.60930902\n",
      "  92.6949133   94.56256261  95.96662451  96.31012432  96.69428823\n",
      "  99.27201528  99.93355685 100.79821881 127.44296394 155.05400821]\n"
     ]
    }
   ],
   "source": [
    "# Convert the list to a NumPy array\n",
    "final_stakes_array = np.array(final_stakes)\n",
    "\n",
    "# Sort the array in ascending order\n",
    "sorted_stakes = np.sort(final_stakes_array)\n",
    "\n",
    "# Get the lowest 20 values\n",
    "lowest_20 = sorted_stakes[:20]\n",
    "\n",
    "# Get the highest 20 values\n",
    "highest_20 = sorted_stakes[-20:]\n",
    "\n",
    "print(\"Lowest 20 values:\")\n",
    "print(lowest_20)\n",
    "\n",
    "print(\"Highest 20 values:\")\n",
    "print(highest_20)"
   ],
   "metadata": {
    "collapsed": false
   }
  },
  {
   "cell_type": "markdown",
   "source": [],
   "metadata": {
    "collapsed": false
   }
  }
 ],
 "metadata": {
  "kernelspec": {
   "display_name": "Python 3",
   "language": "python",
   "name": "python3"
  },
  "language_info": {
   "codemirror_mode": {
    "name": "ipython",
    "version": 2
   },
   "file_extension": ".py",
   "mimetype": "text/x-python",
   "name": "python",
   "nbconvert_exporter": "python",
   "pygments_lexer": "ipython2",
   "version": "2.7.6"
  }
 },
 "nbformat": 4,
 "nbformat_minor": 0
}
